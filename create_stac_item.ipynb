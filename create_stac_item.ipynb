{
 "cells": [
  {
   "cell_type": "code",
   "execution_count": 6,
   "id": "cb643817",
   "metadata": {},
   "outputs": [],
   "source": [
    "# !pip install pystac[validation]"
   ]
  },
  {
   "cell_type": "code",
   "execution_count": 7,
   "id": "cad18133",
   "metadata": {},
   "outputs": [],
   "source": [
    "# ! pip install pystac\n",
    "# ! pip install rasterio\n",
    "# ! pip install shapely"
   ]
  },
  {
   "cell_type": "code",
   "execution_count": 8,
   "id": "ce0f9c42",
   "metadata": {},
   "outputs": [
    {
     "ename": "ModuleNotFoundError",
     "evalue": "No module named 'rasterio'",
     "output_type": "error",
     "traceback": [
      "\u001b[0;31m---------------------------------------------------------------------------\u001b[0m",
      "\u001b[0;31mModuleNotFoundError\u001b[0m                       Traceback (most recent call last)",
      "Cell \u001b[0;32mIn[8], line 2\u001b[0m\n\u001b[1;32m      1\u001b[0m \u001b[38;5;28;01mimport\u001b[39;00m \u001b[38;5;21;01mos\u001b[39;00m\n\u001b[0;32m----> 2\u001b[0m \u001b[38;5;28;01mimport\u001b[39;00m \u001b[38;5;21;01mrasterio\u001b[39;00m\n\u001b[1;32m      3\u001b[0m \u001b[38;5;28;01mimport\u001b[39;00m \u001b[38;5;21;01murllib\u001b[39;00m\u001b[38;5;21;01m.\u001b[39;00m\u001b[38;5;21;01mrequest\u001b[39;00m\n\u001b[1;32m      4\u001b[0m \u001b[38;5;28;01mimport\u001b[39;00m \u001b[38;5;21;01mpystac\u001b[39;00m\n",
      "\u001b[0;31mModuleNotFoundError\u001b[0m: No module named 'rasterio'"
     ]
    }
   ],
   "source": [
    "import os\n",
    "import rasterio\n",
    "import urllib.request\n",
    "import pystac\n",
    "\n",
    "from shapely.geometry import Polygon, mapping\n",
    "from datetime import datetime, timezone\n",
    "from tempfile import TemporaryDirectory\n",
    "\n",
    "from pystac.extensions.eo import Band, EOExtension\n",
    "from pystac.extensions.view import ViewExtension\n",
    "from pystac.extensions.projection import ProjectionExtension"
   ]
  },
  {
   "cell_type": "code",
   "execution_count": null,
   "id": "9406e1d6",
   "metadata": {},
   "outputs": [],
   "source": [
    "# Set the temporary directory to store source data\n",
    "# tmp_dir = TemporaryDirectory()\n",
    "img_path = os.path.join('data','gobindpur_lulc_2024.tif')\n",
    "\n",
    "# # Fetch and store data\n",
    "# url = ('https://spacenet-dataset.s3.amazonaws.com/'\n",
    "#        'spacenet/SN5_roads/train/AOI_7_Moscow/MS/'\n",
    "#        'SN5_roads_train_AOI_7_Moscow_MS_chip996.tif')\n",
    "# urllib.request.urlretrieve(url, img_path)"
   ]
  },
  {
   "cell_type": "code",
   "execution_count": null,
   "id": "4ec7785b",
   "metadata": {},
   "outputs": [
    {
     "data": {
      "text/plain": [
       "'data/gobindpur_lulc_2024.tif'"
      ]
     },
     "execution_count": 47,
     "metadata": {},
     "output_type": "execute_result"
    }
   ],
   "source": [
    "img_path"
   ]
  },
  {
   "cell_type": "code",
   "execution_count": null,
   "id": "9ebe2eda",
   "metadata": {},
   "outputs": [],
   "source": [
    "# !cp data/gobindpur_lulc_2024.tif tmp_dir"
   ]
  },
  {
   "cell_type": "code",
   "execution_count": null,
   "id": "1ce1c83f",
   "metadata": {},
   "outputs": [],
   "source": [
    "def get_bbox_and_footprint(raster):\n",
    "    with rasterio.open(raster) as r:\n",
    "        crs = r.crs\n",
    "        res = r.res\n",
    "        transform = r.transform\n",
    "        linear_units = crs.linear_units\n",
    "\n",
    "        bounds = r.bounds\n",
    "        bbox = [bounds.left, bounds.bottom, bounds.right, bounds.top]\n",
    "        footprint = Polygon([\n",
    "            [bounds.left, bounds.bottom],\n",
    "            [bounds.left, bounds.top],\n",
    "            [bounds.right, bounds.top],\n",
    "            [bounds.right, bounds.bottom]\n",
    "        ])       \n",
    "        tags = r.tags()\n",
    "        date_str = tags.get(\"TIFFTAG_DATETIME\")\n",
    "        print(date_str)\n",
    "        return (bbox, mapping(footprint),crs,res,transform,linear_units)"
   ]
  },
  {
   "cell_type": "code",
   "execution_count": null,
   "id": "25fee561",
   "metadata": {},
   "outputs": [
    {
     "name": "stdout",
     "output_type": "stream",
     "text": [
      "None\n"
     ]
    }
   ],
   "source": [
    "bbox, footprint,crs,res,transform,linear_units = get_bbox_and_footprint(img_path)"
   ]
  },
  {
   "cell_type": "code",
   "execution_count": null,
   "id": "c924b2f5",
   "metadata": {},
   "outputs": [
    {
     "data": {
      "text/plain": [
       "(0.008983152841195215, 0.008983152841195215)"
      ]
     },
     "execution_count": 51,
     "metadata": {},
     "output_type": "execute_result"
    }
   ],
   "source": [
    "res"
   ]
  },
  {
   "cell_type": "code",
   "execution_count": null,
   "id": "621cc070",
   "metadata": {},
   "outputs": [
    {
     "data": {
      "text/plain": [
       "Affine(0.008983152841195215, 0.0, 85.48907232851838,\n",
       "       0.0, -0.008983152841195215, 23.205639745489126)"
      ]
     },
     "execution_count": 52,
     "metadata": {},
     "output_type": "execute_result"
    }
   ],
   "source": [
    "transform"
   ]
  },
  {
   "cell_type": "code",
   "execution_count": null,
   "id": "7f9ad44f",
   "metadata": {},
   "outputs": [
    {
     "data": {
      "text/plain": [
       "'unknown'"
      ]
     },
     "execution_count": 53,
     "metadata": {},
     "output_type": "execute_result"
    }
   ],
   "source": [
    "linear_units"
   ]
  },
  {
   "cell_type": "code",
   "execution_count": null,
   "id": "6184228a",
   "metadata": {},
   "outputs": [
    {
     "data": {
      "text/plain": [
       "[85.48907232851838, 22.42410544830514, 86.30653923706714, 23.205639745489126]"
      ]
     },
     "execution_count": 54,
     "metadata": {},
     "output_type": "execute_result"
    }
   ],
   "source": [
    "bbox"
   ]
  },
  {
   "cell_type": "code",
   "execution_count": null,
   "id": "0c27f2ad",
   "metadata": {},
   "outputs": [
    {
     "data": {
      "text/plain": [
       "{'type': 'Polygon',\n",
       " 'coordinates': (((85.48907232851838, 22.42410544830514),\n",
       "   (85.48907232851838, 23.205639745489126),\n",
       "   (86.30653923706714, 23.205639745489126),\n",
       "   (86.30653923706714, 22.42410544830514),\n",
       "   (85.48907232851838, 22.42410544830514)),)}"
      ]
     },
     "execution_count": 55,
     "metadata": {},
     "output_type": "execute_result"
    }
   ],
   "source": [
    "footprint"
   ]
  },
  {
   "cell_type": "code",
   "execution_count": null,
   "id": "07e01d65",
   "metadata": {},
   "outputs": [
    {
     "data": {
      "text/plain": [
       "CRS.from_wkt('GEOGCS[\"WGS 84\",DATUM[\"WGS_1984\",SPHEROID[\"WGS 84\",6378137,298.257223563,AUTHORITY[\"EPSG\",\"7030\"]],AUTHORITY[\"EPSG\",\"6326\"]],PRIMEM[\"Greenwich\",0,AUTHORITY[\"EPSG\",\"8901\"]],UNIT[\"degree\",0.0174532925199433,AUTHORITY[\"EPSG\",\"9122\"]],AXIS[\"Latitude\",NORTH],AXIS[\"Longitude\",EAST],AUTHORITY[\"EPSG\",\"4326\"]]')"
      ]
     },
     "execution_count": 56,
     "metadata": {},
     "output_type": "execute_result"
    }
   ],
   "source": [
    "crs"
   ]
  },
  {
   "cell_type": "code",
   "execution_count": null,
   "id": "71a6f744",
   "metadata": {},
   "outputs": [],
   "source": [
    "import datetime"
   ]
  },
  {
   "cell_type": "code",
   "execution_count": null,
   "id": "9f178911",
   "metadata": {},
   "outputs": [],
   "source": [
    "item = pystac.Item(id='raster-poc',\n",
    "                      geometry=footprint,\n",
    "                      bbox=bbox,\n",
    "                      datetime=datetime.datetime.now(),\n",
    "                      properties={})"
   ]
  },
  {
   "cell_type": "code",
   "execution_count": null,
   "id": "ae644aa7",
   "metadata": {},
   "outputs": [
    {
     "data": {
      "text/html": [
       "&lt;Item id=raster-poc&gt;"
      ],
      "text/plain": [
       "<Item id=raster-poc>"
      ]
     },
     "execution_count": 59,
     "metadata": {},
     "output_type": "execute_result"
    }
   ],
   "source": [
    "item"
   ]
  },
  {
   "cell_type": "code",
   "execution_count": null,
   "id": "7e2bdad2",
   "metadata": {},
   "outputs": [
    {
     "data": {
      "text/plain": [
       "datetime.datetime(2025, 6, 12, 15, 10, 10, 36026)"
      ]
     },
     "execution_count": 60,
     "metadata": {},
     "output_type": "execute_result"
    }
   ],
   "source": [
    "item.datetime"
   ]
  },
  {
   "cell_type": "code",
   "execution_count": null,
   "id": "2f26322a",
   "metadata": {},
   "outputs": [
    {
     "data": {
      "text/plain": [
       "{'type': 'Polygon',\n",
       " 'coordinates': (((85.48907232851838, 22.42410544830514),\n",
       "   (85.48907232851838, 23.205639745489126),\n",
       "   (86.30653923706714, 23.205639745489126),\n",
       "   (86.30653923706714, 22.42410544830514),\n",
       "   (85.48907232851838, 22.42410544830514)),)}"
      ]
     },
     "execution_count": 61,
     "metadata": {},
     "output_type": "execute_result"
    }
   ],
   "source": [
    "item.geometry"
   ]
  },
  {
   "cell_type": "code",
   "execution_count": null,
   "id": "b0da88d5",
   "metadata": {},
   "outputs": [
    {
     "data": {
      "text/plain": [
       "[85.48907232851838, 22.42410544830514, 86.30653923706714, 23.205639745489126]"
      ]
     },
     "execution_count": 62,
     "metadata": {},
     "output_type": "execute_result"
    }
   ],
   "source": [
    "item.bbox"
   ]
  },
  {
   "cell_type": "code",
   "execution_count": null,
   "id": "890c8a5e",
   "metadata": {},
   "outputs": [],
   "source": [
    "# item.validate()"
   ]
  },
  {
   "cell_type": "code",
   "execution_count": null,
   "id": "2168fdc7",
   "metadata": {},
   "outputs": [],
   "source": [
    "with rasterio.open(img_path) as r:\n",
    "    img = r.read()"
   ]
  },
  {
   "cell_type": "code",
   "execution_count": null,
   "id": "4aae4baf",
   "metadata": {},
   "outputs": [],
   "source": [
    "# !pip install matplotlib"
   ]
  },
  {
   "cell_type": "code",
   "execution_count": null,
   "id": "231dec0d",
   "metadata": {},
   "outputs": [],
   "source": [
    "import matplotlib.pyplot as plt"
   ]
  },
  {
   "cell_type": "code",
   "execution_count": null,
   "id": "379c4343",
   "metadata": {},
   "outputs": [
    {
     "data": {
      "text/plain": [
       "1"
      ]
     },
     "execution_count": 13,
     "metadata": {},
     "output_type": "execute_result"
    }
   ],
   "source": [
    "r.count"
   ]
  },
  {
   "cell_type": "code",
   "execution_count": null,
   "id": "6da9f33c",
   "metadata": {},
   "outputs": [],
   "source": [
    "img2 = img.reshape(img.shape[1],img.shape[2])"
   ]
  },
  {
   "cell_type": "code",
   "execution_count": null,
   "id": "af3cd6ce",
   "metadata": {},
   "outputs": [
    {
     "data": {
      "text/plain": [
       "(87, 91)"
      ]
     },
     "execution_count": 18,
     "metadata": {},
     "output_type": "execute_result"
    }
   ],
   "source": [
    "img2.shape"
   ]
  },
  {
   "cell_type": "code",
   "execution_count": null,
   "id": "8601924a",
   "metadata": {},
   "outputs": [],
   "source": [
    "vis_params = {\n",
    "    'min': 0,\n",
    "    'max': 12,\n",
    "    'palette': ['#000000',  # 0 Black- background\n",
    "            '#ff0000',   # 1 Red- builtup\n",
    "            '#74ccf4', # 2 Light Blue- kharif water\n",
    "            '#1ca3ec', # 3 Blue- kharif and rabi water\n",
    "            '#0f5e9c', # 4 Dark Blue- kharif and rabi and zaid water\n",
    "            '#f1c232', # 5 Yellow- croplands\n",
    "            '#38761d', # 6 Dark Green- Tree/Forests\n",
    "            '#A9A9A9', # 7 Gray- barren lands\n",
    "            '#f1c232', # 8 Yellow- Single Kharif Cropping\n",
    "            '#f59d22', # 9 Mustard- Single Non-Kharif Cropping\n",
    "            '#e68600', # 10 Orange- Double Cropping\n",
    "            '#b3561d', # 11 Brown- Triple Cropping\n",
    "            '#c39797' # 12 Mauve- Shrubs_Scrubs\n",
    "            ]\n",
    "    }"
   ]
  },
  {
   "cell_type": "code",
   "execution_count": null,
   "id": "bada457f",
   "metadata": {},
   "outputs": [],
   "source": [
    "import matplotlib"
   ]
  },
  {
   "cell_type": "code",
   "execution_count": null,
   "id": "1d80e88a",
   "metadata": {},
   "outputs": [
    {
     "data": {
      "text/plain": [
       "['#000000',\n",
       " '#ff0000',\n",
       " '#74ccf4',\n",
       " '#1ca3ec',\n",
       " '#0f5e9c',\n",
       " '#f1c232',\n",
       " '#38761d',\n",
       " '#A9A9A9',\n",
       " '#f1c232',\n",
       " '#f59d22',\n",
       " '#e68600',\n",
       " '#b3561d',\n",
       " '#c39797']"
      ]
     },
     "execution_count": 66,
     "metadata": {},
     "output_type": "execute_result"
    }
   ],
   "source": [
    "vis_params['palette']"
   ]
  },
  {
   "cell_type": "code",
   "execution_count": null,
   "id": "6098e8f2",
   "metadata": {},
   "outputs": [],
   "source": [
    "cmap = matplotlib.colors.ListedColormap(vis_params['palette'])\n",
    "norm = matplotlib.colors.BoundaryNorm(range(len(vis_params['palette'])), cmap.N)\n"
   ]
  },
  {
   "cell_type": "code",
   "execution_count": null,
   "id": "ed1c138c",
   "metadata": {},
   "outputs": [
    {
     "data": {
      "text/plain": [
       "<matplotlib.image.AxesImage at 0x7045e4dbec10>"
      ]
     },
     "execution_count": 69,
     "metadata": {},
     "output_type": "execute_result"
    },
    {
     "data": {
      "image/png": "[encoded data removed]",
      "text/plain": [
       "<Figure size 640x480 with 1 Axes>"
      ]
     },
     "metadata": {},
     "output_type": "display_data"
    }
   ],
   "source": [
    "plt.imshow(img2,interpolation='none', cmap=cmap, norm=norm) #https://stackoverflow.com/questions/32766062/how-to-determine-the-colours-when-using-matplotlib-pyplot-imshow"
   ]
  },
  {
   "cell_type": "code",
   "execution_count": null,
   "id": "326c91fc",
   "metadata": {},
   "outputs": [],
   "source": [
    "import PIL"
   ]
  },
  {
   "cell_type": "code",
   "execution_count": null,
   "id": "09dd1f0b",
   "metadata": {},
   "outputs": [],
   "source": [
    "size = (128,128)"
   ]
  },
  {
   "cell_type": "code",
   "execution_count": null,
   "id": "45775480",
   "metadata": {},
   "outputs": [],
   "source": [
    "image = Image.fromarray(img2)\n",
    "image.thumbnail(size)\n",
    "image.save(thumbnail_path)"
   ]
  },
  {
   "cell_type": "code",
   "execution_count": null,
   "id": "0af96f1b",
   "metadata": {},
   "outputs": [
    {
     "name": "stdout",
     "output_type": "stream",
     "text": [
      "GDAL version: 3040100\n"
     ]
    }
   ],
   "source": [
    "from osgeo import gdal\n",
    "print(\"GDAL version:\", gdal.VersionInfo())\n"
   ]
  },
  {
   "cell_type": "code",
   "execution_count": 12,
   "id": "8780a9f9",
   "metadata": {},
   "outputs": [
    {
     "name": "stderr",
     "output_type": "stream",
     "text": [
      "Warning 6: driver COG does not support creation option TILED\n",
      "Warning 6: driver COG does not support creation option COPY_SRC_OVERVIEWS\n"
     ]
    },
    {
     "name": "stdout",
     "output_type": "stream",
     "text": [
      "COG saved to: /home/vishnu/corestack_STAC/data/gobindpur_lulc_2023_2024_cog.tif\n"
     ]
    }
   ],
   "source": [
    "from osgeo import gdal\n",
    "\n",
    "input_path = \"/home/vishnu/corestack_STAC/data/gobindpur_lulc_2023_2024.tif\"\n",
    "output_path = \"/home/vishnu/corestack_STAC/data/gobindpur_lulc_2023_2024_cog.tif\"\n",
    "\n",
    "def convert_geotiff_to_cog(input_path, output_path):\n",
    "    gdal.Translate(\n",
    "        output_path,\n",
    "        input_path,\n",
    "        format='COG',\n",
    "        creationOptions=[\n",
    "            'COMPRESS=DEFLATE',\n",
    "            'BLOCKSIZE=512',\n",
    "            'TILED=YES',\n",
    "            'BIGTIFF=YES',\n",
    "            'COPY_SRC_OVERVIEWS=YES',\n",
    "        ]\n",
    "    )\n",
    "    print(f\"COG saved to: {output_path}\")\n",
    "\n",
    "\n",
    "convert_geotiff_to_cog(input_path, output_path)\n"
   ]
  },
  {
   "cell_type": "code",
   "execution_count": 20,
   "id": "a531ec57",
   "metadata": {},
   "outputs": [
    {
     "name": "stderr",
     "output_type": "stream",
     "text": [
      "4696.47s - pydevd: Sending message related to process being replaced timed-out after 5 seconds\n"
     ]
    },
    {
     "name": "stdout",
     "output_type": "stream",
     "text": [
      "Defaulting to user installation because normal site-packages is not writeable\n",
      "Collecting earthengine-api\n",
      "  Using cached earthengine_api-1.5.20-py3-none-any.whl (462 kB)\n",
      "Collecting geemap\n",
      "  Using cached geemap-0.35.3-py2.py3-none-any.whl (2.3 MB)\n",
      "Requirement already satisfied: httplib2<1dev,>=0.9.2 in /usr/lib/python3/dist-packages (from earthengine-api) (0.20.2)\n",
      "Collecting google-cloud-storage\n",
      "  Using cached google_cloud_storage-3.1.1-py3-none-any.whl (175 kB)\n",
      "Requirement already satisfied: requests in /home/vishnu/.local/lib/python3.10/site-packages (from earthengine-api) (2.32.4)\n",
      "Collecting google-api-python-client>=1.12.1\n",
      "  Using cached google_api_python_client-2.172.0-py3-none-any.whl (13.6 MB)\n",
      "Collecting google-auth>=1.4.1\n",
      "  Using cached google_auth-2.40.3-py2.py3-none-any.whl (216 kB)\n",
      "Collecting google-auth-httplib2>=0.0.3\n",
      "  Using cached google_auth_httplib2-0.2.0-py2.py3-none-any.whl (9.3 kB)\n",
      "Collecting python-box\n",
      "  Using cached python_box-7.3.2-cp310-cp310-manylinux_2_17_x86_64.manylinux2014_x86_64.whl (4.0 MB)\n",
      "Collecting folium>=0.17.0\n",
      "  Using cached folium-0.20.0-py2.py3-none-any.whl (113 kB)\n",
      "Collecting ipyfilechooser>=0.6.0\n",
      "  Using cached ipyfilechooser-0.6.0-py3-none-any.whl (11 kB)\n",
      "Collecting bqplot\n",
      "  Using cached bqplot-0.12.45-py2.py3-none-any.whl (1.2 MB)\n",
      "Requirement already satisfied: pandas in /home/vishnu/.local/lib/python3.10/site-packages (from geemap) (2.0.0)\n",
      "Collecting ipyevents\n",
      "  Using cached ipyevents-2.0.2-py3-none-any.whl (101 kB)\n",
      "Collecting colour\n",
      "  Using cached colour-0.1.5-py2.py3-none-any.whl (23 kB)\n",
      "Collecting scooby\n",
      "  Using cached scooby-0.10.1-py3-none-any.whl (18 kB)\n",
      "Collecting eerepr>=0.1.0\n",
      "  Using cached eerepr-0.1.2-py3-none-any.whl (9.5 kB)\n",
      "Requirement already satisfied: plotly in /usr/lib/python3/dist-packages (from geemap) (5.4.0)\n",
      "Collecting geocoder\n",
      "  Using cached geocoder-1.38.1-py2.py3-none-any.whl (98 kB)\n",
      "Collecting pyperclip\n",
      "  Using cached pyperclip-1.9.0.tar.gz (20 kB)\n",
      "  Preparing metadata (setup.py) ... \u001b[?25ldone\n",
      "\u001b[?25hCollecting ipyleaflet>=0.19.2\n",
      "  Using cached ipyleaflet-0.20.0-py3-none-any.whl (31 kB)\n",
      "Collecting ipytree\n",
      "  Using cached ipytree-0.2.2-py2.py3-none-any.whl (1.3 MB)\n",
      "Collecting pyshp>=2.3.1\n",
      "  Using cached pyshp-2.3.1-py2.py3-none-any.whl (46 kB)\n",
      "Requirement already satisfied: numpy in /usr/lib/python3/dist-packages (from geemap) (1.21.5)\n",
      "Requirement already satisfied: matplotlib in /usr/lib/python3/dist-packages (from geemap) (3.5.1)\n",
      "Collecting branca>=0.6.0\n",
      "  Using cached branca-0.8.1-py3-none-any.whl (26 kB)\n",
      "Requirement already satisfied: jinja2>=2.9 in /usr/lib/python3/dist-packages (from folium>=0.17.0->geemap) (3.0.3)\n",
      "Collecting xyzservices\n",
      "  Using cached xyzservices-2025.4.0-py3-none-any.whl (90 kB)\n",
      "Collecting uritemplate<5,>=3.0.1\n",
      "  Using cached uritemplate-4.2.0-py3-none-any.whl (11 kB)\n",
      "Collecting google-api-core!=2.0.*,!=2.1.*,!=2.2.*,!=2.3.0,<3.0.0,>=1.31.5\n",
      "  Using cached google_api_core-2.25.1-py3-none-any.whl (160 kB)\n",
      "Collecting rsa<5,>=3.1.4\n",
      "  Using cached rsa-4.9.1-py3-none-any.whl (34 kB)\n",
      "Collecting cachetools<6.0,>=2.0.0\n",
      "  Using cached cachetools-5.5.2-py3-none-any.whl (10 kB)\n",
      "Collecting pyasn1-modules>=0.2.1\n",
      "  Using cached pyasn1_modules-0.4.2-py3-none-any.whl (181 kB)\n",
      "Requirement already satisfied: pyparsing!=3.0.0,!=3.0.1,!=3.0.2,!=3.0.3,<4,>=2.4.2 in /usr/lib/python3/dist-packages (from httplib2<1dev,>=0.9.2->earthengine-api) (2.4.7)\n",
      "Collecting ipywidgets\n",
      "  Using cached ipywidgets-8.1.7-py3-none-any.whl (139 kB)\n",
      "Collecting jupyter-leaflet<0.21,>=0.20\n",
      "  Using cached jupyter_leaflet-0.20.0-py3-none-any.whl (1.1 MB)\n",
      "Collecting traittypes<3,>=0.2.1\n",
      "  Using cached traittypes-0.2.1-py2.py3-none-any.whl (8.6 kB)\n",
      "Requirement already satisfied: traitlets>=4.3.0 in /home/vishnu/.local/lib/python3.10/site-packages (from bqplot->geemap) (5.14.3)\n",
      "Requirement already satisfied: python-dateutil>=2.8.2 in /home/vishnu/.local/lib/python3.10/site-packages (from pandas->geemap) (2.8.2)\n",
      "Requirement already satisfied: tzdata>=2022.1 in /home/vishnu/.local/lib/python3.10/site-packages (from pandas->geemap) (2023.3)\n",
      "Requirement already satisfied: pytz>=2020.1 in /usr/lib/python3/dist-packages (from pandas->geemap) (2022.1)\n",
      "Collecting ratelim\n",
      "  Using cached ratelim-0.1.6-py2.py3-none-any.whl (4.0 kB)\n",
      "Requirement already satisfied: future in /usr/lib/python3/dist-packages (from geocoder->geemap) (0.18.2)\n",
      "Requirement already satisfied: six in /usr/lib/python3/dist-packages (from geocoder->geemap) (1.16.0)\n",
      "Requirement already satisfied: click in /usr/lib/python3/dist-packages (from geocoder->geemap) (8.0.3)\n",
      "Collecting google-resumable-media<3.0.0,>=2.7.2\n",
      "  Using cached google_resumable_media-2.7.2-py2.py3-none-any.whl (81 kB)\n",
      "Collecting google-crc32c<2.0.0,>=1.1.3\n",
      "  Using cached google_crc32c-1.7.1-cp310-cp310-manylinux_2_17_x86_64.manylinux2014_x86_64.whl (38 kB)\n",
      "Collecting google-cloud-core<3.0.0,>=2.4.2\n",
      "  Using cached google_cloud_core-2.4.3-py2.py3-none-any.whl (29 kB)\n",
      "Requirement already satisfied: certifi>=2017.4.17 in /usr/lib/python3/dist-packages (from requests->earthengine-api) (2020.6.20)\n",
      "Requirement already satisfied: charset_normalizer<4,>=2 in /home/vishnu/.local/lib/python3.10/site-packages (from requests->earthengine-api) (3.4.2)\n",
      "Requirement already satisfied: idna<4,>=2.5 in /usr/lib/python3/dist-packages (from requests->earthengine-api) (3.3)\n",
      "Requirement already satisfied: urllib3<3,>=1.21.1 in /usr/lib/python3/dist-packages (from requests->earthengine-api) (1.26.5)\n",
      "Collecting googleapis-common-protos<2.0.0,>=1.56.2\n",
      "  Using cached googleapis_common_protos-1.70.0-py3-none-any.whl (294 kB)\n",
      "Collecting proto-plus<2.0.0,>=1.22.3\n",
      "  Using cached proto_plus-1.26.1-py3-none-any.whl (50 kB)\n",
      "Collecting protobuf!=3.20.0,!=3.20.1,!=4.21.0,!=4.21.1,!=4.21.2,!=4.21.3,!=4.21.4,!=4.21.5,<7.0.0,>=3.19.5\n",
      "  Using cached protobuf-6.31.1-cp39-abi3-manylinux2014_x86_64.whl (321 kB)\n",
      "Requirement already satisfied: ipython>=6.1.0 in /home/vishnu/.local/lib/python3.10/site-packages (from ipywidgets->ipyfilechooser>=0.6.0->geemap) (8.37.0)\n",
      "Collecting widgetsnbextension~=4.0.14\n",
      "  Using cached widgetsnbextension-4.0.14-py3-none-any.whl (2.2 MB)\n",
      "Collecting jupyterlab_widgets~=3.0.15\n",
      "  Using cached jupyterlab_widgets-3.0.15-py3-none-any.whl (216 kB)\n",
      "Requirement already satisfied: comm>=0.1.3 in /home/vishnu/.local/lib/python3.10/site-packages (from ipywidgets->ipyfilechooser>=0.6.0->geemap) (0.2.2)\n",
      "Collecting pyasn1<0.7.0,>=0.6.1\n",
      "  Using cached pyasn1-0.6.1-py3-none-any.whl (83 kB)\n",
      "Requirement already satisfied: decorator in /usr/lib/python3/dist-packages (from ratelim->geocoder->geemap) (4.4.2)\n",
      "Requirement already satisfied: pygments>=2.4.0 in /usr/lib/python3/dist-packages (from ipython>=6.1.0->ipywidgets->ipyfilechooser>=0.6.0->geemap) (2.11.2)\n",
      "Requirement already satisfied: matplotlib-inline in /home/vishnu/.local/lib/python3.10/site-packages (from ipython>=6.1.0->ipywidgets->ipyfilechooser>=0.6.0->geemap) (0.1.7)\n",
      "Requirement already satisfied: exceptiongroup in /home/vishnu/.local/lib/python3.10/site-packages (from ipython>=6.1.0->ipywidgets->ipyfilechooser>=0.6.0->geemap) (1.3.0)\n",
      "Requirement already satisfied: stack_data in /home/vishnu/.local/lib/python3.10/site-packages (from ipython>=6.1.0->ipywidgets->ipyfilechooser>=0.6.0->geemap) (0.6.3)\n",
      "Requirement already satisfied: prompt_toolkit<3.1.0,>=3.0.41 in /home/vishnu/.local/lib/python3.10/site-packages (from ipython>=6.1.0->ipywidgets->ipyfilechooser>=0.6.0->geemap) (3.0.51)\n",
      "Requirement already satisfied: jedi>=0.16 in /home/vishnu/.local/lib/python3.10/site-packages (from ipython>=6.1.0->ipywidgets->ipyfilechooser>=0.6.0->geemap) (0.19.2)\n",
      "Requirement already satisfied: typing_extensions>=4.6 in /home/vishnu/.local/lib/python3.10/site-packages (from ipython>=6.1.0->ipywidgets->ipyfilechooser>=0.6.0->geemap) (4.9.0)\n",
      "Requirement already satisfied: pexpect>4.3 in /usr/lib/python3/dist-packages (from ipython>=6.1.0->ipywidgets->ipyfilechooser>=0.6.0->geemap) (4.8.0)\n",
      "Requirement already satisfied: parso<0.9.0,>=0.8.4 in /home/vishnu/.local/lib/python3.10/site-packages (from jedi>=0.16->ipython>=6.1.0->ipywidgets->ipyfilechooser>=0.6.0->geemap) (0.8.4)\n",
      "Requirement already satisfied: wcwidth in /home/vishnu/.local/lib/python3.10/site-packages (from prompt_toolkit<3.1.0,>=3.0.41->ipython>=6.1.0->ipywidgets->ipyfilechooser>=0.6.0->geemap) (0.2.13)\n",
      "Requirement already satisfied: pure-eval in /home/vishnu/.local/lib/python3.10/site-packages (from stack_data->ipython>=6.1.0->ipywidgets->ipyfilechooser>=0.6.0->geemap) (0.2.3)\n",
      "Requirement already satisfied: asttokens>=2.1.0 in /home/vishnu/.local/lib/python3.10/site-packages (from stack_data->ipython>=6.1.0->ipywidgets->ipyfilechooser>=0.6.0->geemap) (3.0.0)\n",
      "Requirement already satisfied: executing>=1.2.0 in /home/vishnu/.local/lib/python3.10/site-packages (from stack_data->ipython>=6.1.0->ipywidgets->ipyfilechooser>=0.6.0->geemap) (2.2.0)\n",
      "Building wheels for collected packages: pyperclip\n",
      "  Building wheel for pyperclip (setup.py) ... \u001b[?25ldone\n",
      "\u001b[?25h  Created wheel for pyperclip: filename=pyperclip-1.9.0-py3-none-any.whl size=11014 sha256=29224fd984dec89b296c50ca8f648ab7c2092b50a088ad23de64163b9c52bfd3\n",
      "  Stored in directory: /home/vishnu/.cache/pip/wheels/cc/ae/36/ee17d1de094fcb61e24106cb329b5103861e819f94bef5e10a\n",
      "Successfully built pyperclip\n",
      "Installing collected packages: pyperclip, colour, xyzservices, widgetsnbextension, uritemplate, traittypes, scooby, ratelim, python-box, pyshp, pyasn1, protobuf, jupyterlab_widgets, jupyter-leaflet, google-crc32c, cachetools, branca, rsa, pyasn1-modules, proto-plus, googleapis-common-protos, google-resumable-media, geocoder, folium, ipywidgets, google-auth, ipytree, ipyleaflet, ipyfilechooser, ipyevents, google-auth-httplib2, google-api-core, bqplot, google-cloud-core, google-api-python-client, google-cloud-storage, earthengine-api, eerepr, geemap\n",
      "Successfully installed bqplot-0.12.45 branca-0.8.1 cachetools-5.5.2 colour-0.1.5 earthengine-api-1.5.20 eerepr-0.1.2 folium-0.20.0 geemap-0.35.3 geocoder-1.38.1 google-api-core-2.25.1 google-api-python-client-2.172.0 google-auth-2.40.3 google-auth-httplib2-0.2.0 google-cloud-core-2.4.3 google-cloud-storage-3.1.1 google-crc32c-1.7.1 google-resumable-media-2.7.2 googleapis-common-protos-1.70.0 ipyevents-2.0.2 ipyfilechooser-0.6.0 ipyleaflet-0.20.0 ipytree-0.2.2 ipywidgets-8.1.7 jupyter-leaflet-0.20.0 jupyterlab_widgets-3.0.15 proto-plus-1.26.1 protobuf-6.31.1 pyasn1-0.6.1 pyasn1-modules-0.4.2 pyperclip-1.9.0 pyshp-2.3.1 python-box-7.3.2 ratelim-0.1.6 rsa-4.9.1 scooby-0.10.1 traittypes-0.2.1 uritemplate-4.2.0 widgetsnbextension-4.0.14 xyzservices-2025.4.0\n"
     ]
    }
   ],
   "source": [
    "!pip install earthengine-api geemap\n"
   ]
  },
  {
   "cell_type": "code",
   "execution_count": null,
   "id": "32437efe",
   "metadata": {},
   "outputs": [],
   "source": [
    "import ee\n",
    "import geemap\n",
    "\n",
    "try:\n",
    "    ee.Initialize()\n",
    "except Exception as e:\n",
    "    ee.Authenticate()\n",
    "    ee.Initialize()\n",
    "\n",
    "\n",
    "asset_id = \"projects/ee-corestackdev/assets/apps/mws/jharkhand/saraikela-kharsawan/gobindpur/saraikela-kharsawan_gobindpur_2023-07-01_2024-06-30_LULCmap_10m\"\n",
    "\n",
    "lulc_image = ee.Image(asset_id)\n",
    "\n",
    "aoi = lulc_image.geometry().bounds()\n",
    "\n",
    "print(lulc_image.getInfo())\n",
    "\n",
    "geemap.ee_export_image(\n",
    "    image=lulc_image.clip(aoi),\n",
    "    filename='saraikela-kharsawan_gobindpur_2023-07-01_2024-06-30_LULCmap_10m.tif',\n",
    "    scale=10,\n",
    "    region=aoi\n",
    ")\n",
    "\n",
    "print(\"GeoTIFF downloaded as 'saraikela-kharsawan_gobindpur_2023-07-01_2024-06-30_LULCmap_10m.tif'\")\n"
   ]
  },
  {
   "cell_type": "code",
   "execution_count": null,
   "id": "e278b8b7",
   "metadata": {},
   "outputs": [],
   "source": []
  },
  {
   "cell_type": "code",
   "execution_count": null,
   "id": "ec9e6804",
   "metadata": {},
   "outputs": [],
   "source": [
    "def displayMap(roi_boundary, image):\n",
    "    centroid = roi_boundary.geometry().centroid()\n",
    "    coordinates = centroid.coordinates()\n",
    "    centerLat = coordinates.get(1).getInfo()\n",
    "    centerLon = coordinates.get(0).getInfo()\n",
    "    mapObj = folium.Map(width='100%', height='100%', location=[centerLat, centerLon], zoom_start=50)\n",
    "\n",
    "    # Sattelite image visual parameters\n",
    "    vis_params = {\n",
    "        'min': 0,\n",
    "        'max': 12,\n",
    "        'palette': ['#000000',  # 0 Black- background\n",
    "                '#ff0000',   # 1 Red- builtup\n",
    "                '#74ccf4', # 2 Light Blue- kharif water\n",
    "                '#1ca3ec', # 3 Blue- kharif and rabi water\n",
    "                '#0f5e9c', # 4 Dark Blue- kharif and rabi and zaid water\n",
    "                '#f1c232', # 5 Yellow- croplands\n",
    "                '#38761d', # 6 Dark Green- Tree/Forests\n",
    "                '#A9A9A9', # 7 Gray- barren lands\n",
    "                '#f1c232', # 8 Yellow- Single Kharif Cropping\n",
    "                '#f59d22', # 9 Mustard- Single Non-Kharif Cropping\n",
    "                '#e68600', # 10 Orange- Double Cropping\n",
    "                '#b3561d', # 11 Brown- Triple Cropping\n",
    "                '#c39797' # 12 Mauve- Shrubs_Scrubs\n",
    "                ]\n",
    "        }\n",
    "\n",
    "    map_id_dict = ee.Image(image).getMapId(vis_params)\n",
    "\n",
    "    folium.TileLayer(\n",
    "            tiles='https://server.arcgisonline.com/ArcGIS/rest/services/World_Imagery/MapServer/tile/{z}/{y}/{x}',\n",
    "            attr='Esri',\n",
    "            name='Esri Satellite',\n",
    "            overlay=True,\n",
    "            control=True\n",
    "        ).add_to(mapObj)\n",
    "\n",
    "    folium.raster_layers.TileLayer(\n",
    "                    tiles = map_id_dict['tile_fetcher'].url_format,\n",
    "                    attr = 'Google Earth Engine',\n",
    "                    name = 'Sentinel 2 image',\n",
    "                    overlay = True,\n",
    "                    control = True\n",
    "                    ).add_to(mapObj)\n",
    "\n",
    "    roi_geojson = folium.GeoJson(data=roi_boundary.getInfo(), name='ROI Boundary', style_function=lambda x: {'color':'black', 'fillColor': 'transparent', 'fillOpacity': 0})\n",
    "    # roi_geojson.add_to(mapObj)\n",
    "\n",
    "    # Add legend\n",
    "    legend_html = '''\n",
    "    <div style=\"position: fixed; bottom: 200px; right: 100px; z-index:1000; border:2px solid black; background-color:white;\n",
    "        border-radius:5px; padding:10px; font-size:14px;\">\n",
    "        <p style=\"font-weight: bold;\">Legend</p>\n",
    "        <p><span style=\"color: black; font-size: 16px;\">■</span> ROI Boundary </p>\n",
    "        <p><span style=\"color: #ff0000; font-size: 16px;\">■</span> Built-up </p>\n",
    "        <p><span style=\"color: #74ccf4; font-size: 16px;\">■</span> Water in Kharif </p>\n",
    "        <p><span style=\"color: #1ca3ec; font-size: 16px;\">■</span> Water in Kharif and Rabi </p>\n",
    "        <p><span style=\"color: #0f5e9c; font-size: 16px;\">■</span> Water in Kharif, Rabi and Zaid </p>\n",
    "        <p><span style=\"color: #38761d; font-size: 16px;\">■</span> Tree/Forests </p>\n",
    "        <p><span style=\"color: #A9A9A9; font-size: 16px;\">■</span> Barren Lands </p>\n",
    "        <p><span style=\"color: #f1c232; font-size: 16px;\">■</span> Single-Kharif Cropping </p>\n",
    "        <p><span style=\"color: #f59d22; font-size: 16px;\">■</span> Single Non-Kharif Cropping </p>\n",
    "        <p><span style=\"color: #e68600; font-size: 16px;\">■</span> Double Cropping </p>\n",
    "        <p><span style=\"color: #b3561d; font-size: 16px;\">■</span> Triple Cropping </p>\n",
    "        <p><span style=\"color: #c39797; font-size: 16px;\">■</span> Shrubs and Scrubs </p>\n",
    "    </div>\n",
    "    '''\n",
    "    # mapObj.get_root().html.add_child(folium.Element(legend_html))\n",
    "\n",
    "    mapObj.add_child(folium.LayerControl())\n",
    "    display(mapObj)"
   ]
  },
  {
   "cell_type": "code",
   "execution_count": null,
   "id": "e76a8b99",
   "metadata": {},
   "outputs": [],
   "source": []
  }
 ],
 "metadata": {
  "kernelspec": {
   "display_name": "Python 3",
   "language": "python",
   "name": "python3"
  },
  "language_info": {
   "codemirror_mode": {
    "name": "ipython",
    "version": 3
   },
   "file_extension": ".py",
   "mimetype": "text/x-python",
   "name": "python",
   "nbconvert_exporter": "python",
   "pygments_lexer": "ipython3",
   "version": "3.10.12"
  }
 },
 "nbformat": 4,
 "nbformat_minor": 5
}
