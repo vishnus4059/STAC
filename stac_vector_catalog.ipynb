{
 "cells": [
  {
   "cell_type": "code",
   "execution_count": 1,
   "id": "02b3cae7",
   "metadata": {},
   "outputs": [
    {
     "name": "stderr",
     "output_type": "stream",
     "text": [
      "/home/vishnu/.local/lib/python3.10/site-packages/matplotlib/projections/__init__.py:63: UserWarning: Unable to import Axes3D. This may be due to multiple versions of Matplotlib being installed (e.g. as a system package and as a pip package). As a result, the 3D projection is not available.\n",
      "  warnings.warn(\"Unable to import Axes3D. This may be due to multiple versions of \"\n"
     ]
    }
   ],
   "source": [
    "import os\n",
    "import json\n",
    "from datetime import datetime\n",
    "import rasterio\n",
    "import matplotlib.pyplot as plt\n",
    "from shapely.geometry import box, mapping\n",
    "import pystac\n",
    "import xml.etree.ElementTree as ET\n",
    "import sys\n",
    "sys.path.append('/home/vishnu/corestack_STAC')\n",
    "from constants import DEFAULT_START_DATE, DEFAULT_END_DATE\n"
   ]
  },
  {
   "cell_type": "code",
   "execution_count": null,
   "id": "8319ca9d",
   "metadata": {},
   "outputs": [],
   "source": [
    "input_file = \"/home/vishnu/corestack_STAC/data/swb2_saraikela-kharsawan_gobindpur.geojson\"\n",
    "qgis_style_path = \"/home/vishnu/corestack_STAC/data/swb_style.qml\"\n",
    "data_dir = os.path.dirname(input_file)\n"
   ]
  },
  {
   "cell_type": "code",
   "execution_count": null,
   "id": "35f2ff3d",
   "metadata": {},
   "outputs": [],
   "source": []
  },
  {
   "cell_type": "code",
   "execution_count": null,
   "id": "fbffd4b5",
   "metadata": {},
   "outputs": [
    {
     "ename": "RasterioIOError",
     "evalue": "'/home/vishnu/corestack_STAC/data/swb2_saraikela-kharsawan_gobindpur.geojson' not recognized as being in a supported file format.",
     "output_type": "error",
     "traceback": [
      "\u001b[0;31m---------------------------------------------------------------------------\u001b[0m",
      "\u001b[0;31mCPLE_OpenFailedError\u001b[0m                      Traceback (most recent call last)",
      "File \u001b[0;32mrasterio/_base.pyx:310\u001b[0m, in \u001b[0;36mrasterio._base.DatasetBase.__init__\u001b[0;34m()\u001b[0m\n",
      "File \u001b[0;32mrasterio/_base.pyx:221\u001b[0m, in \u001b[0;36mrasterio._base.open_dataset\u001b[0;34m()\u001b[0m\n",
      "File \u001b[0;32mrasterio/_err.pyx:359\u001b[0m, in \u001b[0;36mrasterio._err.exc_wrap_pointer\u001b[0;34m()\u001b[0m\n",
      "\u001b[0;31mCPLE_OpenFailedError\u001b[0m: '/home/vishnu/corestack_STAC/data/swb2_saraikela-kharsawan_gobindpur.geojson' not recognized as being in a supported file format.",
      "\nDuring handling of the above exception, another exception occurred:\n",
      "\u001b[0;31mRasterioIOError\u001b[0m                           Traceback (most recent call last)",
      "Cell \u001b[0;32mIn[3], line 1\u001b[0m\n\u001b[0;32m----> 1\u001b[0m \u001b[38;5;28;01mwith\u001b[39;00m \u001b[43mrasterio\u001b[49m\u001b[38;5;241;43m.\u001b[39;49m\u001b[43mopen\u001b[49m\u001b[43m(\u001b[49m\u001b[43minput_tif\u001b[49m\u001b[43m)\u001b[49m \u001b[38;5;28;01mas\u001b[39;00m src:\n\u001b[1;32m      2\u001b[0m     bounds \u001b[38;5;241m=\u001b[39m src\u001b[38;5;241m.\u001b[39mbounds\n\u001b[1;32m      3\u001b[0m     bbox \u001b[38;5;241m=\u001b[39m [bounds\u001b[38;5;241m.\u001b[39mleft, bounds\u001b[38;5;241m.\u001b[39mbottom, bounds\u001b[38;5;241m.\u001b[39mright, bounds\u001b[38;5;241m.\u001b[39mtop]\n",
      "File \u001b[0;32m~/.local/lib/python3.10/site-packages/rasterio/env.py:463\u001b[0m, in \u001b[0;36mensure_env_with_credentials.<locals>.wrapper\u001b[0;34m(*args, **kwds)\u001b[0m\n\u001b[1;32m    460\u001b[0m     session \u001b[38;5;241m=\u001b[39m DummySession()\n\u001b[1;32m    462\u001b[0m \u001b[38;5;28;01mwith\u001b[39;00m env_ctor(session\u001b[38;5;241m=\u001b[39msession):\n\u001b[0;32m--> 463\u001b[0m     \u001b[38;5;28;01mreturn\u001b[39;00m \u001b[43mf\u001b[49m\u001b[43m(\u001b[49m\u001b[38;5;241;43m*\u001b[39;49m\u001b[43margs\u001b[49m\u001b[43m,\u001b[49m\u001b[43m \u001b[49m\u001b[38;5;241;43m*\u001b[39;49m\u001b[38;5;241;43m*\u001b[39;49m\u001b[43mkwds\u001b[49m\u001b[43m)\u001b[49m\n",
      "File \u001b[0;32m~/.local/lib/python3.10/site-packages/rasterio/__init__.py:356\u001b[0m, in \u001b[0;36mopen\u001b[0;34m(fp, mode, driver, width, height, count, crs, transform, dtype, nodata, sharing, opener, **kwargs)\u001b[0m\n\u001b[1;32m    353\u001b[0m     path \u001b[38;5;241m=\u001b[39m _parse_path(raw_dataset_path)\n\u001b[1;32m    355\u001b[0m \u001b[38;5;28;01mif\u001b[39;00m mode \u001b[38;5;241m==\u001b[39m \u001b[38;5;124m\"\u001b[39m\u001b[38;5;124mr\u001b[39m\u001b[38;5;124m\"\u001b[39m:\n\u001b[0;32m--> 356\u001b[0m     dataset \u001b[38;5;241m=\u001b[39m \u001b[43mDatasetReader\u001b[49m\u001b[43m(\u001b[49m\u001b[43mpath\u001b[49m\u001b[43m,\u001b[49m\u001b[43m \u001b[49m\u001b[43mdriver\u001b[49m\u001b[38;5;241;43m=\u001b[39;49m\u001b[43mdriver\u001b[49m\u001b[43m,\u001b[49m\u001b[43m \u001b[49m\u001b[43msharing\u001b[49m\u001b[38;5;241;43m=\u001b[39;49m\u001b[43msharing\u001b[49m\u001b[43m,\u001b[49m\u001b[43m \u001b[49m\u001b[38;5;241;43m*\u001b[39;49m\u001b[38;5;241;43m*\u001b[39;49m\u001b[43mkwargs\u001b[49m\u001b[43m)\u001b[49m\n\u001b[1;32m    357\u001b[0m \u001b[38;5;28;01melif\u001b[39;00m mode \u001b[38;5;241m==\u001b[39m \u001b[38;5;124m\"\u001b[39m\u001b[38;5;124mr+\u001b[39m\u001b[38;5;124m\"\u001b[39m:\n\u001b[1;32m    358\u001b[0m     dataset \u001b[38;5;241m=\u001b[39m get_writer_for_path(path, driver\u001b[38;5;241m=\u001b[39mdriver)(\n\u001b[1;32m    359\u001b[0m         path, mode, driver\u001b[38;5;241m=\u001b[39mdriver, sharing\u001b[38;5;241m=\u001b[39msharing, \u001b[38;5;241m*\u001b[39m\u001b[38;5;241m*\u001b[39mkwargs\n\u001b[1;32m    360\u001b[0m     )\n",
      "File \u001b[0;32mrasterio/_base.pyx:312\u001b[0m, in \u001b[0;36mrasterio._base.DatasetBase.__init__\u001b[0;34m()\u001b[0m\n",
      "\u001b[0;31mRasterioIOError\u001b[0m: '/home/vishnu/corestack_STAC/data/swb2_saraikela-kharsawan_gobindpur.geojson' not recognized as being in a supported file format."
     ]
    }
   ],
   "source": [
    "with rasterio.open(input_file) as src:\n",
    "    bounds = src.bounds\n",
    "    bbox = [bounds.left, bounds.bottom, bounds.right, bounds.top]\n",
    "    geometry = mapping(box(*bbox))\n",
    "    epsg = src.crs.to_epsg()\n"
   ]
  },
  {
   "cell_type": "code",
   "execution_count": null,
   "id": "83b23270",
   "metadata": {},
   "outputs": [],
   "source": [
    "filename = os.path.basename(input_file)\n",
    "parts = filename.split('_')\n",
    "try:\n",
    "    start_date = datetime.strptime(parts[2], \"%Y-%m-%d\")\n",
    "    end_date = datetime.strptime(parts[3], \"%Y-%m-%d\")\n",
    "except Exception as e:\n",
    "    print(f\"Failed to extract dates from filename '{filename}': {e}\")\n",
    "    start_date = DEFAULT_START_DATE\n",
    "    end_date = DEFAULT_END_DATE\n"
   ]
  },
  {
   "cell_type": "code",
   "execution_count": null,
   "id": "0f14fe3f",
   "metadata": {},
   "outputs": [],
   "source": [
    "output_dir = \"/home/vishnu/corestack_STAC/output_catalog_vector\"\n",
    "item_id = \"gobindpur-geojson\"\n",
    "item_dir = os.path.join(output_dir, item_id)\n",
    "os.makedirs(item_dir, exist_ok=True)\n",
    "\n",
    "catalog = pystac.Catalog(\n",
    "    id=\"gobindpur-geojson-catalog\",\n",
    "    description=\"\"\n",
    ")\n",
    "\n",
    "item = pystac.Item(\n",
    "    id=item_id,\n",
    "    geometry=geometry,\n",
    "    bbox=bbox,\n",
    "    datetime=start_date,\n",
    "    properties={\n",
    "        \"start_datetime\": start_date.isoformat() + \"Z\",\n",
    "        \"end_datetime\": end_date.isoformat() + \"Z\",\n",
    "        \"proj:epsg\": epsg,\n",
    "        \"proj:bbox\": bbox\n",
    "    },\n",
    "    stac_extensions=[\n",
    "        \"https://stac-extensions.github.io/projection/v1.0.0/schema.json\"\n",
    "    ]\n",
    ")\n"
   ]
  },
  {
   "cell_type": "code",
   "execution_count": null,
   "id": "a3d665f1",
   "metadata": {},
   "outputs": [],
   "source": [
    "item.add_asset(\n",
    "    key=\"raster-data\",\n",
    "    asset=pystac.Asset(\n",
    "        href=\"home/vishnu/corestack_STAC/data/\" + os.path.basename(input_file),\n",
    "        media_type=pystac.MediaType.GEOTIFF,\n",
    "        roles=[\"data\"],\n",
    "        title=\"Gobindpur LULC Raster (GeoTIFF)\"\n",
    "    )\n",
    ")\n"
   ]
  },
  {
   "cell_type": "code",
   "execution_count": 24,
   "id": "cda2e26f",
   "metadata": {},
   "outputs": [
    {
     "name": "stdout",
     "output_type": "stream",
     "text": [
      "QML file found. Parsing classification...\n"
     ]
    }
   ],
   "source": [
    "if os.path.exists(qgis_style_path):\n",
    "    print(\"QML file found. Parsing classification...\")\n",
    "    lulc_classes = parse_qml_to_classes(qgis_style_path)\n",
    "\n",
    "    item.add_asset(\n",
    "        key=\"qgis-style\",\n",
    "        asset=pystac.Asset(\n",
    "            href=\"home/vishnu/corestack_STAC/data/style_file.qml\",\n",
    "            media_type=\"application/xml\",\n",
    "            roles=[\"style\"],\n",
    "            title=\"QGIS Style File\"\n",
    "        )\n",
    "    )\n",
    "\n",
    "    item.properties[\"classification:classes\"] = lulc_classes\n",
    "\n",
    "    legend_path = os.path.join(data_dir, \"legend.json\")\n",
    "    with open(legend_path, \"w\") as f:\n",
    "        json.dump(lulc_classes, f, indent=2)\n",
    "\n",
    "    item.add_asset(\n",
    "        key=\"legend\",\n",
    "        asset=pystac.Asset(\n",
    "            href=\"home/vishnu/corestack_STAC/data/legend.json\",\n",
    "            media_type=\"application/json\",\n",
    "            roles=[\"legend\"],\n",
    "            title=\"LULC Legend\"\n",
    "        )\n",
    "    )\n",
    "else:\n",
    "    print(\"QML file not found. Skipping classification section.\")\n"
   ]
  },
  {
   "cell_type": "code",
   "execution_count": null,
   "id": "04a48641",
   "metadata": {},
   "outputs": [],
   "source": [
    "thumb_path = os.path.join(data_dir, \"thumbnail.png\")\n",
    "with rasterio.open(input_file) as src:\n",
    "    array = src.read(1)\n",
    "\n",
    "plt.figure(figsize=(3, 3))\n",
    "plt.axis('off')\n",
    "plt.imshow(array, cmap='tab20')\n",
    "plt.savefig(thumb_path, bbox_inches='tight', pad_inches=0)\n",
    "plt.close()\n",
    "\n",
    "item.add_asset(\n",
    "    key=\"thumbnail\",\n",
    "    asset=pystac.Asset(\n",
    "        href=\"home/vishnu/corestack_STAC/data/thumbnail.png\",\n",
    "        media_type=\"image/png\",\n",
    "        roles=[\"thumbnail\"],\n",
    "        title=\"Thumbnail Preview\"\n",
    "    )\n",
    ")\n"
   ]
  },
  {
   "cell_type": "code",
   "execution_count": 26,
   "id": "39594ad6",
   "metadata": {},
   "outputs": [
    {
     "name": "stdout",
     "output_type": "stream",
     "text": [
      "\n",
      "STAC catalog created with:\n",
      " Dates from filename\n",
      " classification:classes from QML\n",
      " Thumbnail preview\n",
      " catalog.json: /home/vishnu/corestack_STAC/output_catalog_lulc/catalog.json\n",
      "item: /home/vishnu/corestack_STAC/output_catalog_lulc/gobindpur-lulc/gobindpur-lulc.json\n"
     ]
    }
   ],
   "source": [
    "catalog.add_item(item)\n",
    "catalog.normalize_hrefs(output_dir)\n",
    "catalog.make_all_asset_hrefs_relative()\n",
    "catalog.save(catalog_type=pystac.CatalogType.SELF_CONTAINED)\n",
    "\n",
    "\n",
    "default_item_path = os.path.join(item_dir, \"item.json\")\n",
    "custom_item_path = os.path.join(item_dir, f\"{item_id}.json\")\n",
    "if os.path.exists(default_item_path):\n",
    "    os.rename(default_item_path, custom_item_path)\n",
    "\n",
    "print(\"\\nSTAC catalog created with:\")\n",
    "print(\" Dates from filename\")\n",
    "print(\" classification:classes from QML\")\n",
    "print(\" Thumbnail preview\")\n",
    "print(\" catalog.json:\", os.path.join(output_dir, \"catalog.json\"))\n",
    "print(\"item:\", custom_item_path)\n"
   ]
  }
 ],
 "metadata": {
  "kernelspec": {
   "display_name": "Python 3",
   "language": "python",
   "name": "python3"
  },
  "language_info": {
   "codemirror_mode": {
    "name": "ipython",
    "version": 3
   },
   "file_extension": ".py",
   "mimetype": "text/x-python",
   "name": "python",
   "nbconvert_exporter": "python",
   "pygments_lexer": "ipython3",
   "version": "3.10.12"
  }
 },
 "nbformat": 4,
 "nbformat_minor": 5
}
