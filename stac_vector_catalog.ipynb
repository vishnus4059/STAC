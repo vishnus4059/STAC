{
 "cells": [
  {
   "cell_type": "code",
   "execution_count": 22,
   "id": "02b3cae7",
   "metadata": {},
   "outputs": [],
   "source": [
    "import os\n",
    "import json\n",
    "from datetime import datetime\n",
    "import rasterio\n",
    "import matplotlib.pyplot as plt\n",
    "from shapely.geometry import box, mapping\n",
    "import pystac\n",
    "import xml.etree.ElementTree as ET\n",
    "import sys\n",
    "import fiona\n",
    "import geopandas as gpd\n",
    "sys.path.append('/home/vishnu/corestack_STAC')\n",
    "from constants import DEFAULT_START_DATE, DEFAULT_END_DATE\n",
    "\n"
   ]
  },
  {
   "cell_type": "code",
   "execution_count": 21,
   "id": "9eaa5471",
   "metadata": {},
   "outputs": [
    {
     "name": "stdout",
     "output_type": "stream",
     "text": [
      "Defaulting to user installation because normal site-packages is not writeable\n",
      "Requirement already satisfied: fiona in /home/vishnu/.local/lib/python3.10/site-packages (1.10.1)\n",
      "Requirement already satisfied: cligj>=0.5 in /home/vishnu/.local/lib/python3.10/site-packages (from fiona) (0.7.2)\n",
      "Requirement already satisfied: click~=8.0 in /home/vishnu/.local/lib/python3.10/site-packages (from fiona) (8.2.1)\n",
      "Requirement already satisfied: certifi in /home/vishnu/.local/lib/python3.10/site-packages (from fiona) (2025.6.15)\n",
      "Requirement already satisfied: attrs>=19.2.0 in /home/vishnu/.local/lib/python3.10/site-packages (from fiona) (25.3.0)\n",
      "Requirement already satisfied: click-plugins>=1.0 in /home/vishnu/.local/lib/python3.10/site-packages (from fiona) (1.1.1)\n",
      "Defaulting to user installation because normal site-packages is not writeable\n",
      "Collecting geopandas\n",
      "  Downloading geopandas-1.1.1-py3-none-any.whl (338 kB)\n",
      "\u001b[2K     \u001b[38;2;114;156;31m━━━━━━━━━━━━━━━━━━━━━━━━━━━━━━━━━━━━━━━\u001b[0m \u001b[32m338.4/338.4 KB\u001b[0m \u001b[31m1.3 MB/s\u001b[0m eta \u001b[36m0:00:00\u001b[0mm eta \u001b[36m0:00:01\u001b[0m[36m0:00:01\u001b[0m\n",
      "\u001b[?25hCollecting pyproj>=3.5.0\n",
      "  Downloading pyproj-3.7.1-cp310-cp310-manylinux_2_17_x86_64.manylinux2014_x86_64.whl (9.3 MB)\n",
      "\u001b[2K     \u001b[38;2;114;156;31m━━━━━━━━━━━━━━━━━━━━━━━━━━━━━━━━━━━━━━━━\u001b[0m \u001b[32m9.3/9.3 MB\u001b[0m \u001b[31m5.5 MB/s\u001b[0m eta \u001b[36m0:00:00\u001b[0mm eta \u001b[36m0:00:01\u001b[0m0:01\u001b[0m:01\u001b[0mm\n",
      "\u001b[?25hCollecting pyogrio>=0.7.2\n",
      "  Downloading pyogrio-0.11.0-cp310-cp310-manylinux_2_28_x86_64.whl (27.6 MB)\n",
      "\u001b[2K     \u001b[38;2;114;156;31m━━━━━━━━━━━━━━━━━━━━━━━━━━━━━━━━━━━━━━━━\u001b[0m \u001b[32m27.6/27.6 MB\u001b[0m \u001b[31m4.7 MB/s\u001b[0m eta \u001b[36m0:00:00\u001b[0mm eta \u001b[36m0:00:01\u001b[0m[36m0:00:01\u001b[0m\n",
      "\u001b[?25hRequirement already satisfied: pandas>=2.0.0 in /home/vishnu/.local/lib/python3.10/site-packages (from geopandas) (2.3.0)\n",
      "Requirement already satisfied: numpy>=1.24 in /home/vishnu/.local/lib/python3.10/site-packages (from geopandas) (2.2.6)\n",
      "Requirement already satisfied: shapely>=2.0.0 in /home/vishnu/.local/lib/python3.10/site-packages (from geopandas) (2.1.1)\n",
      "Requirement already satisfied: packaging in /home/vishnu/.local/lib/python3.10/site-packages (from geopandas) (25.0)\n",
      "Requirement already satisfied: python-dateutil>=2.8.2 in /home/vishnu/.local/lib/python3.10/site-packages (from pandas>=2.0.0->geopandas) (2.9.0.post0)\n",
      "Requirement already satisfied: tzdata>=2022.7 in /home/vishnu/.local/lib/python3.10/site-packages (from pandas>=2.0.0->geopandas) (2025.2)\n",
      "Requirement already satisfied: pytz>=2020.1 in /home/vishnu/.local/lib/python3.10/site-packages (from pandas>=2.0.0->geopandas) (2025.2)\n",
      "Requirement already satisfied: certifi in /home/vishnu/.local/lib/python3.10/site-packages (from pyogrio>=0.7.2->geopandas) (2025.6.15)\n",
      "Requirement already satisfied: six>=1.5 in /home/vishnu/.local/lib/python3.10/site-packages (from python-dateutil>=2.8.2->pandas>=2.0.0->geopandas) (1.17.0)\n",
      "Installing collected packages: pyproj, pyogrio, geopandas\n",
      "Successfully installed geopandas-1.1.1 pyogrio-0.11.0 pyproj-3.7.1\n"
     ]
    }
   ],
   "source": [
    "!pip install fiona\n",
    "!pip install geopandas"
   ]
  },
  {
   "cell_type": "code",
   "execution_count": 4,
   "id": "8319ca9d",
   "metadata": {},
   "outputs": [],
   "source": [
    "input_file = \"/home/vishnu/corestack_STAC/data/swb2_saraikela-kharsawan_gobindpur.geojson\"\n",
    "qgis_style_path = \"/home/vishnu/corestack_STAC/data/swb_style.qml\"\n",
    "data_dir = os.path.dirname(input_file)\n"
   ]
  },
  {
   "cell_type": "code",
   "execution_count": 5,
   "id": "35f2ff3d",
   "metadata": {},
   "outputs": [],
   "source": [
    "def parse_qml_to_classes(qml_path):\n",
    "    try:\n",
    "        tree = ET.parse(qml_path)\n",
    "        root = tree.getroot()\n",
    "        classes = []\n",
    "        for entry in root.findall(\".//paletteEntry\"):\n",
    "            value = int(entry.attrib.get(\"value\", -1))\n",
    "            label = entry.attrib.get(\"label\", f\"Class {value}\")\n",
    "            color = entry.attrib.get(\"color\", \"#000000\")\n",
    "            classes.append({\n",
    "                \"value\": value,\n",
    "                \"name\": label,\n",
    "                \"color\": color\n",
    "            })\n",
    "        return sorted(classes, key=lambda x: x[\"value\"])\n",
    "    except Exception as e:\n",
    "        print(f\" Failed to parse QML: {e}\")\n",
    "        return []\n"
   ]
  },
  {
   "cell_type": "code",
   "execution_count": null,
   "id": "fbffd4b5",
   "metadata": {},
   "outputs": [
    {
     "name": "stdout",
     "output_type": "stream",
     "text": [
      "BBox: [85.83186726151115, 22.438299037364732, 86.2031453696048, 22.761334210815875]\n",
      "EPSG: 4326\n"
     ]
    }
   ],
   "source": [
    "with fiona.open(input_file) as src:\n",
    "    bounds = src.bounds  # (minx, miny, maxx, maxy)\n",
    "    bbox = [bounds[0], bounds[1], bounds[2], bounds[3]]\n",
    "    geometry = mapping(box(*bbox))\n",
    "\n",
    "\n",
    "    crs = src.crs\n",
    "    epsg = None\n",
    "    if \"init\" in crs:\n",
    "        epsg = int(crs[\"init\"].split(\":\")[1])\n",
    "    elif \"epsg\" in crs:\n",
    "        epsg = int(crs[\"epsg\"])\n",
    "\n",
    "print(\"BBox:\", bbox)\n",
    "print(\"EPSG:\", epsg)\n"
   ]
  },
  {
   "cell_type": "code",
   "execution_count": 12,
   "id": "83b23270",
   "metadata": {},
   "outputs": [
    {
     "name": "stdout",
     "output_type": "stream",
     "text": [
      "Failed to extract dates from filename 'swb2_saraikela-kharsawan_gobindpur.geojson': time data 'gobindpur.geojson' does not match format '%Y-%m-%d'\n"
     ]
    }
   ],
   "source": [
    "filename = os.path.basename(input_file)\n",
    "parts = filename.split('_')\n",
    "try:\n",
    "    start_date = datetime.strptime(parts[2], \"%Y-%m-%d\")\n",
    "    end_date = datetime.strptime(parts[3], \"%Y-%m-%d\")\n",
    "except Exception as e:\n",
    "    print(f\"Failed to extract dates from filename '{filename}': {e}\")\n",
    "    start_date = DEFAULT_START_DATE\n",
    "    end_date = DEFAULT_END_DATE\n"
   ]
  },
  {
   "cell_type": "code",
   "execution_count": 15,
   "id": "0f14fe3f",
   "metadata": {},
   "outputs": [],
   "source": [
    "output_dir = \"/home/vishnu/corestack_STAC/output_catalog_vector\"\n",
    "item_id = \"gobindpur-geojson\"\n",
    "item_dir = os.path.join(output_dir, item_id)\n",
    "os.makedirs(item_dir, exist_ok=True)\n",
    "\n",
    "catalog = pystac.Catalog(\n",
    "    id=\"gobindpur-geojson-catalog\",\n",
    "    description=\"\"\n",
    ")\n",
    "\n",
    "\n",
    "if isinstance(start_date, str):\n",
    "    start_date = datetime.strptime(start_date, \"%Y-%m-%d\")\n",
    "if isinstance(end_date, str):\n",
    "    end_date = datetime.strptime(end_date, \"%Y-%m-%d\")\n",
    "\n",
    "item = pystac.Item(\n",
    "    id=item_id,\n",
    "    geometry=geometry,\n",
    "    bbox=bbox,\n",
    "    datetime=start_date,\n",
    "    properties={\n",
    "        \"start_datetime\": start_date.isoformat() + \"Z\",\n",
    "        \"end_datetime\": end_date.isoformat() + \"Z\",\n",
    "        \"proj:epsg\": epsg,\n",
    "        \"proj:bbox\": bbox\n",
    "    },\n",
    "    stac_extensions=[\n",
    "        \"https://stac-extensions.github.io/projection/v1.0.0/schema.json\"\n",
    "    ]\n",
    ")\n",
    "\n"
   ]
  },
  {
   "cell_type": "code",
   "execution_count": null,
   "id": "a3d665f1",
   "metadata": {},
   "outputs": [],
   "source": [
    "item.add_asset(\n",
    "    key=\"vector-data\",\n",
    "    asset=pystac.Asset(\n",
    "        href=\"home/vishnu/corestack_STAC/data/\" + os.path.basename(input_file),\n",
    "        media_type=pystac.MediaType.GEOJSON,\n",
    "        roles=[\"data\"],\n",
    "        title=\"Gobindpur Vector (GEOJSON)\"\n",
    "    )\n",
    ")\n"
   ]
  },
  {
   "cell_type": "code",
   "execution_count": null,
   "id": "cda2e26f",
   "metadata": {},
   "outputs": [
    {
     "name": "stdout",
     "output_type": "stream",
     "text": [
      "QML file found. Parsing classification...\n"
     ]
    }
   ],
   "source": [
    "if os.path.exists(qgis_style_path):\n",
    "    print(\"QML file found. Parsing classification...\")\n",
    "    lulc_classes = parse_qml_to_classes(qgis_style_path)\n",
    "\n",
    "    item.add_asset(\n",
    "        key=\"qgis-style\",\n",
    "        asset=pystac.Asset(\n",
    "            href=\"home/vishnu/corestack_STAC/data/swb_style.qml\",\n",
    "            media_type=\"application/xml\",\n",
    "            roles=[\"style\"],\n",
    "            title=\"QGIS Style File\"\n",
    "        )\n",
    "    )\n",
    "\n",
    "    item.properties[\"classification:classes\"] = lulc_classes\n",
    "\n",
    "    legend_path = os.path.join(data_dir, \"legend.json\")\n",
    "    with open(legend_path, \"w\") as f:\n",
    "        json.dump(lulc_classes, f, indent=2)\n",
    "\n",
    "    item.add_asset(\n",
    "        key=\"legend\",\n",
    "        asset=pystac.Asset(\n",
    "            href=\"home/vishnu/corestack_STAC/data/legend.json\",\n",
    "            media_type=\"application/json\",\n",
    "            roles=[\"legend\"],\n",
    "            title=\"LULC Legend\"\n",
    "        )\n",
    "    )\n",
    "else:\n",
    "    print(\"QML file not found. Skipping classification section.\")\n"
   ]
  },
  {
   "cell_type": "code",
   "execution_count": 24,
   "id": "04a48641",
   "metadata": {},
   "outputs": [
    {
     "data": {
      "text/plain": [
       "<Figure size 300x300 with 0 Axes>"
      ]
     },
     "metadata": {},
     "output_type": "display_data"
    }
   ],
   "source": [
    "gdf = gpd.read_file(input_file)\n",
    "\n",
    "\n",
    "thumb_path = os.path.join(data_dir, \"thumbnail.png\")\n",
    "\n",
    "plt.figure(figsize=(3, 3))\n",
    "gdf.plot(edgecolor='black', linewidth=0.5)\n",
    "plt.axis('off')\n",
    "plt.savefig(thumb_path, bbox_inches='tight', pad_inches=0, dpi=150)\n",
    "plt.close()\n",
    "\n",
    "item.add_asset(\n",
    "    key=\"thumbnail\",\n",
    "    asset=pystac.Asset(\n",
    "        href=os.path.relpath(thumb_path, item_dir), \n",
    "        media_type=\"home/vishnu/corestack_STAC/data/thumbnail.png\",\n",
    "        roles=[\"thumbnail\"],\n",
    "        title=\"Thumbnail Preview\"\n",
    "    )\n",
    ")\n"
   ]
  },
  {
   "cell_type": "code",
   "execution_count": 25,
   "id": "39594ad6",
   "metadata": {},
   "outputs": [
    {
     "name": "stdout",
     "output_type": "stream",
     "text": [
      "\n",
      "STAC catalog created with:\n",
      " Dates from filename\n",
      " classification:classes from QML\n",
      " Thumbnail preview\n",
      " catalog.json: /home/vishnu/corestack_STAC/output_catalog_vector/catalog.json\n",
      "item: /home/vishnu/corestack_STAC/output_catalog_vector/gobindpur-geojson/gobindpur-geojson.json\n"
     ]
    }
   ],
   "source": [
    "catalog.add_item(item)\n",
    "catalog.normalize_hrefs(output_dir)\n",
    "catalog.make_all_asset_hrefs_relative()\n",
    "catalog.save(catalog_type=pystac.CatalogType.SELF_CONTAINED)\n",
    "\n",
    "\n",
    "default_item_path = os.path.join(item_dir, \"item.json\")\n",
    "custom_item_path = os.path.join(item_dir, f\"{item_id}.json\")\n",
    "if os.path.exists(default_item_path):\n",
    "    os.rename(default_item_path, custom_item_path)\n",
    "\n",
    "print(\"\\nSTAC catalog created with:\")\n",
    "print(\" Dates from filename\")\n",
    "print(\" classification:classes from QML\")\n",
    "print(\" Thumbnail preview\")\n",
    "print(\" catalog.json:\", os.path.join(output_dir, \"catalog.json\"))\n",
    "print(\"item:\", custom_item_path)\n"
   ]
  }
 ],
 "metadata": {
  "kernelspec": {
   "display_name": "Python 3",
   "language": "python",
   "name": "python3"
  },
  "language_info": {
   "codemirror_mode": {
    "name": "ipython",
    "version": 3
   },
   "file_extension": ".py",
   "mimetype": "text/x-python",
   "name": "python",
   "nbconvert_exporter": "python",
   "pygments_lexer": "ipython3",
   "version": "3.10.12"
  }
 },
 "nbformat": 4,
 "nbformat_minor": 5
}
